{
 "cells": [
  {
   "cell_type": "code",
   "execution_count": null,
   "metadata": {},
   "outputs": [],
   "source": [
    "# install pydrake\n",
    "\n",
    "# try:\n",
    "#   import pydrake\n",
    "#   import underactuated\n",
    "# except ImportError:\n",
    "#   !curl -s https://raw.githubusercontent.com/RussTedrake/underactuated/master/scripts/setup/jupyter_setup.py > jupyter_setup.py\n",
    "#   from jupyter_setup import setup_underactuated\n",
    "#   setup_underactuated()\n"
   ]
  },
  {
   "cell_type": "code",
   "execution_count": null,
   "metadata": {},
   "outputs": [],
   "source": [
    "from pydrake.all import eq, MathematicalProgram, Solve, Variable\n",
    "\n",
    "import matplotlib.pyplot as plt\n",
    "import numpy as np\n",
    "import importlib\n",
    "\n",
    "from pydrake.solvers.mathematicalprogram import MathematicalProgram, Solve\n",
    "from pydrake.systems.framework import DiagramBuilder\n",
    "from pydrake.systems.analysis import Simulator\n",
    "\n",
    "from pydrake.all import (\n",
    "    DiagramBuilder, Simulator\n",
    ")\n",
    "\n",
    "from pydrake.multibody.tree import (\n",
    "    JointActuatorIndex\n",
    ")\n",
    "\n",
    "from pydrake.geometry import SceneGraph\n",
    "from pydrake.common import FindResourceOrThrow\n",
    "from pydrake.multibody.plant import MultibodyPlant\n",
    "from pydrake.multibody.parsing import Parser\n",
    "from pydrake.trajectories import PiecewisePolynomial\n",
    "from pydrake.solvers.snopt import SnoptSolver"
   ]
  },
  {
   "cell_type": "code",
   "execution_count": null,
   "metadata": {},
   "outputs": [],
   "source": [
    "# set up constants\n",
    "\n",
    "N = 7      # number of collocation points\n",
    "n_x = 6\n",
    "n_u = 3\n",
    "\n",
    "# where we start, where we go, mass?, \n",
    "# start position\n",
    "alpha_0 = -23.45   #longitude degrees\n",
    "beta_0 = -2.94     #latitude degrees\n",
    "r_0 = 3474.8       #radius of the moon, in km\n",
    "phi_0 = 90         #pitch degrees\n",
    "psi_0 = 0          #yaw degrees\n",
    "\n",
    "# final position\n",
    "alpha_N = -23.45   #degrees\n",
    "beta_N = -1.94     #degrees\n",
    "r_N = 3474.8       #radius of the moon, in km\n",
    "phi_N = 90\n",
    "psi_N = 0\n",
    "\n",
    "# initial control input \n",
    "T_0 = 0\n",
    "phiddot_N = 0\n",
    "psiddot_N = 0\n",
    "\n",
    "# final control input\n",
    "T_N = 0\n",
    "phiddot_N = 0\n",
    "psiddot_N = 0\n",
    "\n",
    "m = 8321.09        #kg\n",
    "g = 3.711          #m/s^2\n"
   ]
  },
  {
   "cell_type": "code",
   "execution_count": null,
   "metadata": {},
   "outputs": [],
   "source": [
    "prog = MathematicalProgram()\n",
    "x = np.zeros((N,n_x),dtype=\"object\")\n",
    "u = np.zeros((N,n_u),dtype=\"object\")\n",
    "t = np.zeros((N,1),dtype=\"object\")\n",
    "\n",
    "for i in range(N):\n",
    "    x[i] = prog.NewContinuousVariables(n_x,\"x_\" + str(i))\n",
    "    u[i] = prog.NewContinuousVariabels(n_u,\"u_\" + str(i))\n",
    "#     t[i] = prog.NewContinuousVariables(1,\"t_\" + str(i))\n",
    "\n"
   ]
  },
  {
   "cell_type": "code",
   "execution_count": null,
   "metadata": {},
   "outputs": [],
   "source": [
    "# TODO: Add cost (sum of square of all inputs)"
   ]
  },
  {
   "cell_type": "code",
   "execution_count": null,
   "metadata": {},
   "outputs": [],
   "source": [
    "# TODO: Add dynamic constraint"
   ]
  },
  {
   "cell_type": "code",
   "execution_count": null,
   "metadata": {},
   "outputs": [],
   "source": [
    "# TODO: Add kinematic constraint"
   ]
  },
  {
   "cell_type": "code",
   "execution_count": null,
   "metadata": {},
   "outputs": [],
   "source": [
    "# TODO: Add input/state limitation as bounding box constraints"
   ]
  },
  {
   "cell_type": "code",
   "execution_count": null,
   "metadata": {},
   "outputs": [],
   "source": [
    "# TODO: Set up solver initial guess"
   ]
  },
  {
   "cell_type": "code",
   "execution_count": null,
   "metadata": {},
   "outputs": [],
   "source": [
    "# Set up solver\n",
    "\n",
    "solver = SnoptSolver()\n",
    "result = solver.Solve(prog)\n",
    "  \n",
    "x_sol = result.GetSolution(x)\n",
    "u_sol = result.GetSolution(u)\n",
    "t_sol = result.GetSolution(t)\n",
    "\n",
    "# TODO: generate trajectory based on the solutions"
   ]
  }
 ],
 "metadata": {
  "kernelspec": {
   "display_name": "Python 3",
   "language": "python",
   "name": "python3"
  },
  "language_info": {
   "codemirror_mode": {
    "name": "ipython",
    "version": 3
   },
   "file_extension": ".py",
   "mimetype": "text/x-python",
   "name": "python",
   "nbconvert_exporter": "python",
   "pygments_lexer": "ipython3",
   "version": "3.8.3"
  }
 },
 "nbformat": 4,
 "nbformat_minor": 4
}

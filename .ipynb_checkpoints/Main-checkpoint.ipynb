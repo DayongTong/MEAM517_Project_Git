{
 "cells": [
  {
   "cell_type": "code",
   "execution_count": 3,
   "metadata": {},
   "outputs": [],
   "source": [
    "# install pydrake\n",
    "\n",
    "# try:\n",
    "#   import pydrake\n",
    "#   import underactuated\n",
    "# except ImportError:\n",
    "# !curl -s https://raw.githubusercontent.com/RussTedrake/underactuated/master/scripts/setup/jupyter_setup.py > jupyter_setup.py\n",
    "# from jupyter_setup import setup_underactuated\n",
    "# setup_underactuated()\n"
   ]
  },
  {
   "cell_type": "code",
   "execution_count": null,
   "metadata": {},
   "outputs": [],
   "source": [
    "from pydrake.all import eq, MathematicalProgram, Solve, Variable\n",
    "\n",
    "import matplotlib.pyplot as plt\n",
    "import numpy as np\n",
    "import importlib\n",
    "\n",
    "from pydrake.solvers.mathematicalprogram import MathematicalProgram, Solve\n",
    "from pydrake.systems.framework import DiagramBuilder\n",
    "from pydrake.systems.analysis import Simulator\n",
    "\n",
    "from pydrake.all import (\n",
    "    DiagramBuilder, Simulator\n",
    ")\n",
    "\n",
    "from pydrake.multibody.tree import (\n",
    "    JointActuatorIndex\n",
    ")\n",
    "\n",
    "from pydrake.geometry import SceneGraph\n",
    "from pydrake.common import FindResourceOrThrow\n",
    "from pydrake.multibody.plant import MultibodyPlant\n",
    "from pydrake.multibody.parsing import Parser\n",
    "from pydrake.trajectories import PiecewisePolynomial\n",
    "from pydrake.solvers.snopt import SnoptSolver\n",
    "\n",
    "import kinematic_constraints\n",
    "import dynamics_constraints\n",
    "importlib.reload(kinematic_constraints)\n",
    "importlib.reload(dynamics_constraints)\n",
    "from dynamics_constraints import (\n",
    "  EvaluateDynamics\n",
    ")"
   ]
  },
  {
   "cell_type": "code",
   "execution_count": null,
   "metadata": {},
   "outputs": [],
   "source": [
    "# set up constants\n",
    "\n",
    "N = 7      # number of collocation points\n",
    "n_x = 9\n",
    "n_u = 3\n",
    "\n",
    "# where we start, where we go, mass?, \n",
    "# start position\n",
    "r_0 = 3474.8       #radius of Mars, in km\n",
    "alpha_0 = -23.45   #longitude degrees\n",
    "beta_0 = -2.94     #latitude degrees\n",
    "Vx_0 = 0\n",
    "Vy_0 = 0\n",
    "Vz_0 = 0\n",
    "m_0 = 15234        #kg\n",
    "phi_0 = 90         #pitch degrees\n",
    "psi_0 = 0          #yaw degrees\n",
    "\n",
    "# final position\n",
    "r_N = 3474.8       #radius of Mars, in km\n",
    "alpha_N = -23.45   #degrees\n",
    "beta_N = -1.94     #degrees\n",
    "Vx_0 = 0\n",
    "Vy_0 = 0\n",
    "Vz_0 = 0\n",
    "phi_N = 90\n",
    "psi_N = 0\n",
    "\n",
    "# initial control input \n",
    "T_0 = 0\n",
    "phiddot_0 = 0\n",
    "psiddot_0 = 0\n",
    "\n",
    "# final control input\n",
    "T_N = 0\n",
    "phiddot_N = 0\n",
    "psiddot_N = 0\n",
    "\n",
    "# constraint coefficients\n",
    "r_min = 3474.8\n",
    "r_max = 3474.8 + 30 #30km above Mars surface\n",
    "phi_min = -20      #degree\n",
    "phi_max = 90       #degree\n",
    "psi_min = -180     #degree\n",
    "psi_max = 180      #degree\n",
    "phidot_min = -8    #deg/sec\n",
    "phidot_max = 8     #deg/sec\n",
    "psidot_min = -8    #deg/sec\n",
    "psidot_max = 8     #deg/sec\n",
    "T_min = 4671       #Newton\n",
    "T_max = 43148      #Newton\n",
    "\n",
    "initial_state = np.array([r_0,alpha_0,beta_0,Vx_0,Vy_0,Vz_0,m_0,phi_0,psi_0])\n",
    "input_limit = np.array([[T_min,phidot_min,psidot_min],[T_max,phidot_max,psidot_max]])\n",
    "\n",
    "\n",
    "m = 8321.09        #kg\n",
    "g = 3.711          #m/s^2\n",
    "Isp = 302.39       #s (effective specific impulse of the lander, used in mdot equation)\n"
   ]
  },
  {
   "cell_type": "code",
   "execution_count": null,
   "metadata": {},
   "outputs": [],
   "source": [
    "# Initialize Mathematical Program and Add Variables: Need Check\n",
    "\n",
    "prog = MathematicalProgram()\n",
    "x = np.zeros((N,n_x),dtype=\"object\")\n",
    "u = np.zeros((N,n_u),dtype=\"object\")\n",
    "# t = np.zeros((N,1),dtype=\"object\")\n",
    "\n",
    "\n",
    "for i in range(N):\n",
    "    x[i] = prog.NewContinuousVariables(n_x,\"x_\" + str(i))\n",
    "    u[i] = prog.NewContinuousVariabels(n_u,\"u_\" + str(i))\n",
    "#     t[i] = prog.NewContinuousVariables(1,\"t_\" + str(i))\n",
    "t_land = prog.NewContinuousVariables(1,\"t_land\")\n",
    "\n",
    "t0 = 0.0\n",
    "timesteps = np.linspace(t0,t_land,N)\n"
   ]
  },
  {
   "cell_type": "code",
   "execution_count": null,
   "metadata": {},
   "outputs": [],
   "source": [
    "# TODO: Add cost (sum of square of all thrusts): NEED CHECK\n",
    "gz = (timesteps[i+1] - timesteps[i]) * (u[:,0].T.dot[[:,0]])\n",
    "# gz = -x[N-1,6]\n",
    "prog.AddQuadraticCost(gz)\n"
   ]
  },
  {
   "cell_type": "code",
   "execution_count": null,
   "metadata": {},
   "outputs": [],
   "source": [
    "# TODO: Add dynamic constraint"
   ]
  },
  {
   "cell_type": "code",
   "execution_count": null,
   "metadata": {},
   "outputs": [],
   "source": [
    "# TODO: Add kinematic constraint"
   ]
  },
  {
   "cell_type": "code",
   "execution_count": null,
   "metadata": {},
   "outputs": [],
   "source": [
    "# TODO: Add input/state limitation as bounding box constraints: NEED CHECK\n",
    "\n",
    "# height limit: 0 <= h <= hmax\n",
    "prog.AddBoundingBoxConstraint(r_min,r_max,x[:,2])\n",
    "\n",
    "# mass upper limit\n",
    "prog.AddBoundingBoxConstraint(0,m_0,x[:,6])\n",
    "\n",
    "# angular position input limit\n",
    "prog.AddBoundingBoxConstraint(phi_min,phi_max,x[:,7])\n",
    "prog.AddBoundingBoxConstraint(psi_min,psi_max,x[:,8])\n",
    "\n",
    "# thrust input limit\n",
    "prog.AddBoundingBoxConstraint(T_min,T_max,u[:,0])\n",
    "\n",
    "# omega angular velocity state limits\n",
    "prog.AddBoundingBoxConstraint(phidot_min,phidot_max,u[:,1])\n",
    "prog.AddBoundingBoxConstraint(psidot_min,psidot_max,u[:,2])\n",
    "\n"
   ]
  },
  {
   "cell_type": "code",
   "execution_count": null,
   "metadata": {},
   "outputs": [],
   "source": [
    "# TODO: Set up solver initial guess: NOT FINISHED\n",
    "\n",
    "# state initial guess\n",
    "xinit = np.zeros((N,n_x))\n",
    "\n",
    "\n",
    "# input initial guess\n",
    "uinit = np.zeros((N,n_u))\n",
    "for i in range(n_u):\n",
    "    uinit[:,i] = np.random.uniform(input_limit[0,i],input_limit[1,i],N)\n",
    "prog.SetInitialGuess(u,uinit)\n"
   ]
  },
  {
   "cell_type": "code",
   "execution_count": null,
   "metadata": {},
   "outputs": [],
   "source": [
    "# Set up solver: NEED CHECK\n",
    "\n",
    "solver = SnoptSolver()\n",
    "result = solver.Solve(prog)\n",
    "\n",
    "# get solution of states and inputs from solver result\n",
    "x_sol = result.GetSolution(x)\n",
    "u_sol = result.GetSolution(u)\n",
    "t_sol = result.GetSolution(t_land)\n",
    "\n",
    "timesteps_sol = np.linspace(t0,t_sol,N)\n",
    "\n",
    "# get xdot from x_sol and u_sol\n",
    "xdot_sol = np.zeros(x_sol.shape)\n",
    "for i in range(N):\n",
    "    xdot_sol[i] = EvaluateDynamics(x_sol[i],u_sol[i])\n",
    "\n",
    "# create trajectory by interpolating between collocation points using piecewise polynomial\n",
    "x_traj = PiecewisePolynomial.CubicHermite(timesteps_sol,x_sol.T,xdot_sol.T)\n",
    "u_traj = PiecewisePolynomial.FirstOrderHold(timesteps_sol,u_sol.T)\n",
    "\n"
   ]
  },
  {
   "cell_type": "code",
   "execution_count": null,
   "metadata": {},
   "outputs": [],
   "source": [
    "# TODO: create LQR to follow the trajectory (use HW2)"
   ]
  },
  {
   "cell_type": "code",
   "execution_count": null,
   "metadata": {},
   "outputs": [],
   "source": [
    "# TODO: simulate and animate path, create disturbance in simulation"
   ]
  }
 ],
 "metadata": {
  "kernelspec": {
   "display_name": "Python 3",
   "language": "python",
   "name": "python3"
  },
  "language_info": {
   "codemirror_mode": {
    "name": "ipython",
    "version": 3
   },
   "file_extension": ".py",
   "mimetype": "text/x-python",
   "name": "python",
   "nbconvert_exporter": "python",
   "pygments_lexer": "ipython3",
   "version": "3.8.3"
  }
 },
 "nbformat": 4,
 "nbformat_minor": 4
}

{
  "nbformat": 4,
  "nbformat_minor": 0,
  "metadata": {
    "colab": {
      "name": "Copy of ProjectMain.ipynb",
      "provenance": [],
      "collapsed_sections": []
    },
    "kernelspec": {
      "name": "python3",
      "display_name": "Python 3"
    }
  },
  "cells": [
    {
      "cell_type": "markdown",
      "metadata": {
        "id": "9KH_KZ2aFh50"
      },
      "source": [
        "Mount Github files to Google Drive"
      ]
    },
    {
      "cell_type": "code",
      "metadata": {
        "id": "t8IZ-4irE-yh",
        "outputId": "438ab6dc-7a82-486f-da7c-7508aeb872f8",
        "colab": {
          "base_uri": "https://localhost:8080/"
        }
      },
      "source": [
        "! rm -rf sample_data; curl -s https://raw.githubusercontent.com/DayongTong/MEAM517_Project_Git/main/sync_project.py > sync_project.py\n",
        "files = [\"spacecraft.py\",\"simulation.py\", \"dynamic_constraints.py\", \"kinematic_constraints.py\"]\n",
        "\n",
        "from sync_project import sync_project\n",
        "sync_project(files, False)"
      ],
      "execution_count": 730,
      "outputs": [
        {
          "output_type": "stream",
          "text": [
            "Drive already mounted at /content/drive; to attempt to forcibly remount, call drive.mount(\"/content/drive\", force_remount=True).\n"
          ],
          "name": "stdout"
        }
      ]
    },
    {
      "cell_type": "markdown",
      "metadata": {
        "id": "U4WKv831zIjL"
      },
      "source": [
        "Install Drake"
      ]
    },
    {
      "cell_type": "code",
      "metadata": {
        "id": "ZCe4eCR3zH_4",
        "outputId": "11d70556-5519-4726-eb25-3f1c508c1038",
        "colab": {
          "base_uri": "https://localhost:8080/",
          "height": 16
        }
      },
      "source": [
        "# install pydrake\n",
        "\n",
        "!curl -s https://raw.githubusercontent.com/mposa/MEAM517/master/colab_drake_setup.py > colab_drake_setup.py\n",
        "from colab_drake_setup import setup\n",
        "setup()"
      ],
      "execution_count": 731,
      "outputs": [
        {
          "output_type": "display_data",
          "data": {
            "application/javascript": [
              "google.colab.output.setIframeHeight(0, true, {maxHeight: 100})"
            ],
            "text/plain": [
              "<IPython.core.display.Javascript object>"
            ]
          },
          "metadata": {
            "tags": []
          }
        }
      ]
    },
    {
      "cell_type": "markdown",
      "metadata": {
        "id": "p4TvoqFwzXgH"
      },
      "source": [
        "Import Packages"
      ]
    },
    {
      "cell_type": "code",
      "metadata": {
        "id": "Nge_RxvGzaJw"
      },
      "source": [
        "from pydrake.all import eq, MathematicalProgram, Solve, Variable\n",
        "\n",
        "import matplotlib.pyplot as plt\n",
        "import numpy as np\n",
        "import importlib\n",
        "\n",
        "from pydrake.solvers.mathematicalprogram import MathematicalProgram, Solve, SolverType\n",
        "from pydrake.trajectories import PiecewisePolynomial\n",
        "from pydrake.solvers.snopt import SnoptSolver\n"
      ],
      "execution_count": 732,
      "outputs": []
    },
    {
      "cell_type": "code",
      "metadata": {
        "id": "RFvUP-LuqwQl"
      },
      "source": [
        "import kinematic_constraints\n",
        "import dynamic_constraints\n",
        "importlib.reload(kinematic_constraints)\n",
        "importlib.reload(dynamic_constraints)\n",
        "from kinematic_constraints import (\n",
        "    AddInitialConstraints,\n",
        "    AddLandingConstraints\n",
        ")\n",
        "from dynamic_constraints import (\n",
        "    AddCollocationConstraints,\n",
        "    EvaluateDynamics\n",
        ")"
      ],
      "execution_count": 733,
      "outputs": []
    },
    {
      "cell_type": "code",
      "metadata": {
        "id": "cGHkyUZizcjO"
      },
      "source": [
        "# set up constants\n",
        "\n",
        "N = 20     # number of collocation points\n",
        "n_x = 9\n",
        "n_u = 3\n",
        "\n",
        "# where we start, where we go, mass?, \n",
        "# start position\n",
        "r_0 = 3474.8*1000                 #radius of Mars, in km\n",
        "alpha_0 = -23.45*np.pi/180   #longitude degrees\n",
        "beta_0 = -2.94*np.pi/180   #latitude degrees\n",
        "Vx_0 = 0\n",
        "Vy_0 = 0\n",
        "Vz_0 = 0\n",
        "m_0 = 15234                  #kg\n",
        "phi_0 = 90*np.pi/180         #pitch degrees\n",
        "psi_0 = 0          #yaw degrees\n",
        "\n",
        "# final position\n",
        "r_N = 3474.8*1000                 #radius of Mars, in km\n",
        "alpha_N = -23.45*np.pi/180   #degrees\n",
        "beta_N = -1.94*np.pi/180     #degrees\n",
        "Vx_N = 0\n",
        "Vy_N = 0\n",
        "Vz_N = 0\n",
        "phi_N = 90*np.pi/180\n",
        "psi_N = 0\n",
        "\n",
        "# initial control input \n",
        "T_0 = 0\n",
        "phidot_0 = 0\n",
        "psidot_0 = 0\n",
        "\n",
        "# final control input\n",
        "T_N = 0\n",
        "phidot_N = 0\n",
        "psidot_N = 0\n",
        "\n",
        "# constraint coefficients\n",
        "r_min = 3474.8*1000\n",
        "h_max = 30*1000\n",
        "r_max = 3474.8*1000 + h_max     #h_max km above Mars surface\n",
        "phi_min = -90*np.pi/180    #degree\n",
        "phi_max = 90*np.pi/180     #degree\n",
        "psi_min = -180*np.pi/180   #degree\n",
        "psi_max = 180*np.pi/180    #degree\n",
        "phidot_min = -8*np.pi/180  #deg/sec\n",
        "phidot_max = 8*np.pi/180   #deg/sec\n",
        "psidot_min = -8*np.pi/180  #deg/sec\n",
        "psidot_max = 8*np.pi/180   #deg/sec\n",
        "T_min = 0                  #Newton\n",
        "T_max = 43148              #Newton\n",
        "\n",
        "initial_state = np.array([r_0,alpha_0,beta_0,Vx_0,Vy_0,Vz_0,m_0,phi_0,psi_0])\n",
        "final_state = np.array([r_N,alpha_N,beta_N,Vx_N,Vy_N,Vz_N,phi_N,psi_N])\n",
        "input_limit = np.array([[T_min,phidot_min,psidot_min],[T_max,phidot_max,psidot_max]])\n",
        "initial_input = np.array([T_0,phidot_0,psidot_0])\n",
        "final_input = np.array([T_N,phidot_N,psidot_N])\n",
        "\n",
        "\n",
        "# m = 8321.09        #kg\n",
        "g = 3.711          #m/s^2\n",
        "Isp = 302.39       #s (effective specific impulse of the lander, used in mdot equation)\n"
      ],
      "execution_count": 768,
      "outputs": []
    },
    {
      "cell_type": "code",
      "metadata": {
        "id": "BXW1skdzzfHP"
      },
      "source": [
        "# Initialize Mathematical Program and Add Variables\n",
        "\n",
        "prog = MathematicalProgram()\n",
        "x = np.zeros((N,n_x),dtype=\"object\")\n",
        "u = np.zeros((N,n_u),dtype=\"object\")\n",
        "dt = np.zeros((1,), dtype=\"object\")\n",
        "\n",
        "for i in range(N):\n",
        "    x[i] = prog.NewContinuousVariables(n_x,\"x_\" + str(i))\n",
        "    u[i] = prog.NewContinuousVariables(n_u,\"u_\" + str(i))\n",
        "dt = prog.NewContinuousVariables(1,\"dt\") \n",
        "\n",
        "t0 = 0.0"
      ],
      "execution_count": 769,
      "outputs": []
    },
    {
      "cell_type": "code",
      "metadata": {
        "id": "w2t-LTzlzgw3",
        "outputId": "41835ffc-3b07-472d-d47d-f5fe18bea248",
        "colab": {
          "base_uri": "https://localhost:8080/"
        }
      },
      "source": [
        "# Add linear cost\n",
        "gz = -x[N-1,6]\n",
        "prog.AddLinearCost(gz)"
      ],
      "execution_count": 770,
      "outputs": [
        {
          "output_type": "execute_result",
          "data": {
            "text/plain": [
              "<pydrake.solvers.mathematicalprogram.Binding_LinearCost at 0x7fb5a65025b0>"
            ]
          },
          "metadata": {
            "tags": []
          },
          "execution_count": 770
        }
      ]
    },
    {
      "cell_type": "code",
      "metadata": {
        "id": "K46gb7sNzhcG"
      },
      "source": [
        " # Add dynamic constraint\n",
        "AddCollocationConstraints(prog, N, x, u, dt)"
      ],
      "execution_count": 771,
      "outputs": []
    },
    {
      "cell_type": "code",
      "metadata": {
        "id": "IMKv6Vnuzkfl"
      },
      "source": [
        "# TODO: Add kinematic initial and final(landing) constraint\n",
        "AddInitialConstraints(prog, N, x, u, initial_state, initial_input)\n",
        "AddLandingConstraints(prog, N, x, u, final_state, final_input)"
      ],
      "execution_count": 772,
      "outputs": []
    },
    {
      "cell_type": "code",
      "metadata": {
        "id": "PIfI9VFFzmHz",
        "outputId": "f91335d9-4acf-4998-caa3-c1355e399969",
        "colab": {
          "base_uri": "https://localhost:8080/"
        }
      },
      "source": [
        "# TODO: Add input/state limitation as bounding box constraints: NEED CHECK\n",
        "\n",
        "# height limit: 0 <= h <= hmax\n",
        "prog.AddBoundingBoxConstraint(r_min, r_max, x[:,0])\n",
        "\n",
        "# mass upper limit\n",
        "# prog.AddBoundingBoxConstraint(0.1, m_0, x[:,6])\n",
        "for i in range(N-1):\n",
        "  prog.AddLinearConstraint(x[i+1, 6] <= x[i, 6])\n",
        "\n",
        "# angular position input limit\n",
        "prog.AddBoundingBoxConstraint(phi_min, phi_max, x[:,7]) #infeasible constraint\n",
        "prog.AddBoundingBoxConstraint(psi_min, psi_max, x[:,8])\n",
        "\n",
        "# thrust input limit\n",
        "# prog.AddBoundingBoxConstraint(T_min, T_max, u[:,0])# change constraint\n",
        "\n",
        "# omega angular velocity state limits\n",
        "prog.AddBoundingBoxConstraint(phidot_min, phidot_max, u[:,1])\n",
        "prog.AddBoundingBoxConstraint(psidot_min, psidot_max, u[:,2])"
      ],
      "execution_count": 773,
      "outputs": [
        {
          "output_type": "execute_result",
          "data": {
            "text/plain": [
              "<pydrake.solvers.mathematicalprogram.Binding_BoundingBoxConstraint at 0x7fb5a6130df0>"
            ]
          },
          "metadata": {
            "tags": []
          },
          "execution_count": 773
        }
      ]
    },
    {
      "cell_type": "code",
      "metadata": {
        "id": "9p5SMFv5zoJi"
      },
      "source": [
        "# Set up solver initial guess\n",
        "\n",
        "# state initial guess\n",
        "xinit = np.zeros((N,n_x))\n",
        "\n",
        "# altitude initial guess\n",
        "a1 = np.linspace(r_0,r_0+6,N-N//2)\n",
        "a2 = np.linspace(r_0+5,r_0,N//2)\n",
        "xinit[:,0] = np.concatenate((a1,a2),axis=0)\n",
        "\n",
        "# longitude initial guess\n",
        "a1 = np.linspace(alpha_0,-23.47*np.pi/180,N-N//2)\n",
        "a2 = np.linspace(-23.46*np.pi/180,alpha_N,N//2)\n",
        "xinit[:,1] = np.concatenate((a1,a2),axis=0)\n",
        "\n",
        "# latitude initial guess\n",
        "xinit[:,2] = np.linspace(beta_0,beta_N,N)\n",
        "\n",
        "# velocity Vx\n",
        "a1 = np.linspace(Vx_0,100,N//5)\n",
        "a2 = np.linspace(100,-100,N-2*N//5)\n",
        "a3 = np.linspace(-100,Vx_N,N//5)\n",
        "xinit[:,3] = np.concatenate((a1,a2,a3),axis=0)\n",
        "\n",
        "# velocity Vy no need to do anything, all zeros is a good guess\n",
        "\n",
        "# velocity Vz\n",
        "a1 = np.linspace(Vz_0,150,N-N//2)\n",
        "a2 = np.linspace(140,Vz_N,N//2)\n",
        "xinit[:,5] = np.concatenate((a1,a2),axis=0)\n",
        "# mass\n",
        "xinit[:,6] = np.full(N,m_0)\n",
        "\n",
        "# pitch phi Need Halp\n",
        "xinit[:,7] = np.full(N,phi_0)\n",
        "\n",
        "# yaw psi\n",
        "xinit[:,8] = np.full(N,psi_0)\n",
        "\n",
        "# input initial guess\n",
        "uinit = np.zeros((N,n_u))\n",
        "for i in range(n_u):\n",
        "    uinit[:,i] = np.random.uniform(input_limit[0,i],input_limit[1,i],N)\n",
        "\n",
        "tinit = 0.5\n",
        "\n",
        "prog.SetInitialGuess(u,uinit)\n",
        "prog.SetInitialGuess(x,xinit)\n",
        "prog.SetInitialGuess(dt, [tinit])"
      ],
      "execution_count": 790,
      "outputs": []
    },
    {
      "cell_type": "code",
      "metadata": {
        "id": "Da9pksSIzo3z",
        "outputId": "de286bc6-3852-49b9-87d5-a9b9bbe26fb0",
        "colab": {
          "base_uri": "https://localhost:8080/"
        }
      },
      "source": [
        "# set up solver\n",
        "solver = SnoptSolver()\n",
        "prog.SetSolverOption(SolverType.kSnopt, \"Iterations limit\", 1000000)\n",
        "result = solver.Solve(prog)\n",
        "print(result.get_solution_result())\n",
        "# get solution of states and inputs from solver result\n",
        "x_sol = result.GetSolution(x)\n",
        "u_sol = result.GetSolution(u)\n",
        "t_sol = result.GetSolution(dt)\n",
        "timesteps = np.linspace(t0, t_sol*N, N)\n",
        "xdot_sol = np.zeros(x_sol.shape)\n",
        "for i in range(N):\n",
        "    xdot_sol[i] = EvaluateDynamics(x_sol[i],u_sol[i])\n",
        "\n",
        "# create trajectory by interpolating between collocation points using piecewise polynomial\n",
        "x_traj = PiecewisePolynomial.CubicHermite(timesteps,x_sol.T,xdot_sol.T)\n",
        "u_traj = PiecewisePolynomial.FirstOrderHold(timesteps,u_sol.T)"
      ],
      "execution_count": 791,
      "outputs": [
        {
          "output_type": "stream",
          "text": [
            "SolutionResult.kSolutionFound\n"
          ],
          "name": "stdout"
        }
      ]
    },
    {
      "cell_type": "code",
      "metadata": {
        "id": "-fA_XU4GI7a-",
        "outputId": "c8bd9a1c-c89f-466c-88ff-d29462aaeb0c",
        "colab": {
          "base_uri": "https://localhost:8080/"
        }
      },
      "source": [
        "print(\"Total mass lost:\", xinit[N-1, 6] - x_sol[N-1, 6], \"kg\")"
      ],
      "execution_count": 792,
      "outputs": [
        {
          "output_type": "stream",
          "text": [
            "Total mass lost: 10307.188582771689 kg\n"
          ],
          "name": "stdout"
        }
      ]
    },
    {
      "cell_type": "code",
      "metadata": {
        "id": "fJvHz_oI7C06"
      },
      "source": [
        "plt.plot(timesteps, x_sol[:,0], label=\"T\")\n",
        "plt.legend()"
      ],
      "execution_count": null,
      "outputs": []
    },
    {
      "cell_type": "code",
      "metadata": {
        "id": "Im8ojFTuN4VL"
      },
      "source": [
        "plt.plot(timesteps, x_sol[:,1]*180/np.pi, label=\"phi\")\n",
        "# plt.plot(timesteps, x_sol[:,8]*180/np.pi, label=\"psi\")\n",
        "plt.legend()"
      ],
      "execution_count": null,
      "outputs": []
    },
    {
      "cell_type": "code",
      "metadata": {
        "id": "wAckbuw1xw9y"
      },
      "source": [
        "plt.plot(timesteps, x_sol[:,0]-3474.8*1000, label='r')\n",
        "# plt.plot(timesteps, u_sol[:,0], label=\"T\")\n",
        "plt.xlabel(\"time (s)\")\n",
        "plt.legend()"
      ],
      "execution_count": null,
      "outputs": []
    },
    {
      "cell_type": "code",
      "metadata": {
        "id": "IhIGf8YGzqm5"
      },
      "source": [
        "# TODO: create LQR to follow the trajectory"
      ],
      "execution_count": null,
      "outputs": []
    },
    {
      "cell_type": "code",
      "metadata": {
        "id": "JL_zVExPzrWK"
      },
      "source": [
        "# TODO: simulate and animate path, create disturbance in simulation\n"
      ],
      "execution_count": 803,
      "outputs": []
    },
    {
      "cell_type": "code",
      "metadata": {
        "id": "IDH9AklAr1lF"
      },
      "source": [
        ""
      ],
      "execution_count": null,
      "outputs": []
    }
  ]
}
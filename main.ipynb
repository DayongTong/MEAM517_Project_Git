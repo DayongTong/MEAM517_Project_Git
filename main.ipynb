{
  "nbformat": 4,
  "nbformat_minor": 0,
  "metadata": {
    "colab": {
      "name": "main.ipynb",
      "provenance": [],
      "collapsed_sections": []
    },
    "kernelspec": {
      "display_name": "Python 3",
      "name": "python3"
    }
  },
  "cells": [
    {
      "cell_type": "markdown",
      "metadata": {
        "id": "9KH_KZ2aFh50"
      },
      "source": [
        "Mount Github files to Google Drive"
      ]
    },
    {
      "cell_type": "code",
      "metadata": {
        "colab": {
          "base_uri": "https://localhost:8080/"
        },
        "id": "t8IZ-4irE-yh",
        "outputId": "5bfea0f6-e3ee-4714-e246-79adf9327511"
      },
      "source": [
        "! rm -rf sample_data; curl -s https://raw.githubusercontent.com/DayongTong/MEAM517_Project_Git/main/sync_project.py > sync_project.py\n",
        "files = [\"spacecraft.py\",\"simulation.py\", \"dynamic_constraints.py\", \"kinematic_constraints.py\"]\n",
        "\n",
        "from sync_project import sync_project\n",
        "sync_project(files, False)"
      ],
      "execution_count": 4,
      "outputs": [
        {
          "output_type": "stream",
          "text": [
            "Drive already mounted at /content/drive; to attempt to forcibly remount, call drive.mount(\"/content/drive\", force_remount=True).\n"
          ],
          "name": "stdout"
        }
      ]
    },
    {
      "cell_type": "markdown",
      "metadata": {
        "id": "U4WKv831zIjL"
      },
      "source": [
        "Install Drake"
      ]
    },
    {
      "cell_type": "code",
      "metadata": {
        "colab": {
          "base_uri": "https://localhost:8080/",
          "height": 16
        },
        "id": "ZCe4eCR3zH_4",
        "outputId": "f4350a03-067d-4fa1-c641-102056bb233f"
      },
      "source": [
        "# install pydrake\n",
        "\n",
        "!curl -s https://raw.githubusercontent.com/mposa/MEAM517/master/colab_drake_setup.py > colab_drake_setup.py\n",
        "from colab_drake_setup import setup\n",
        "setup()"
      ],
      "execution_count": 5,
      "outputs": [
        {
          "output_type": "display_data",
          "data": {
            "application/javascript": [
              "google.colab.output.setIframeHeight(0, true, {maxHeight: 100})"
            ],
            "text/plain": [
              "<IPython.core.display.Javascript object>"
            ]
          },
          "metadata": {
            "tags": []
          }
        }
      ]
    },
    {
      "cell_type": "markdown",
      "metadata": {
        "id": "p4TvoqFwzXgH"
      },
      "source": [
        "Import Packages"
      ]
    },
    {
      "cell_type": "code",
      "metadata": {
        "id": "Nge_RxvGzaJw"
      },
      "source": [
        "from pydrake.all import eq, MathematicalProgram, Solve, Variable\n",
        "import matplotlib.pyplot as plt\n",
        "import numpy as np\n",
        "import importlib\n",
        "from pydrake.math import sqrt\n",
        "from pydrake.solvers.mathematicalprogram import MathematicalProgram, Solve, SolverType\n",
        "from pydrake.trajectories import PiecewisePolynomial\n",
        "from pydrake.solvers.snopt import SnoptSolver"
      ],
      "execution_count": 6,
      "outputs": []
    },
    {
      "cell_type": "code",
      "metadata": {
        "id": "RFvUP-LuqwQl"
      },
      "source": [
        "import kinematic_constraints\n",
        "import dynamic_constraints\n",
        "importlib.reload(kinematic_constraints)\n",
        "importlib.reload(dynamic_constraints)\n",
        "from kinematic_constraints import (\n",
        "    AddInitialConstraints,\n",
        "    AddLandingConstraints\n",
        ")\n",
        "from dynamic_constraints import (\n",
        "    AddCollocationConstraints,\n",
        "    EvaluateDynamics\n",
        ")"
      ],
      "execution_count": 7,
      "outputs": []
    },
    {
      "cell_type": "code",
      "metadata": {
        "id": "cGHkyUZizcjO"
      },
      "source": [
        "# set up constants\n",
        "\n",
        "N = 15                     # number of collocation points\n",
        "n_x = 9\n",
        "n_u = 3\n",
        "\n",
        "r_0 = 3474.8*1000           #radius of Mars (m)\n",
        "alpha_0 = -23.45*np.pi/180  #longitude \n",
        "beta_0 = -2.94*np.pi/180    #latitude \n",
        "Vx_0 = 0\n",
        "Vy_0 = 0\n",
        "Vz_0 = 0\n",
        "m_0 = 4000 #15234                  #Mass of rocket (kg)\n",
        "phi_0 = 90*np.pi/180         #pitch \n",
        "psi_0 = 0                    #yaw \n",
        "\n",
        "# final position\n",
        "r_N = 3474.8*1000            #radius of Mars, in km\n",
        "alpha_N = -23.45*np.pi/180   \n",
        "beta_N = -2.34*np.pi/180      \n",
        "Vx_N = 0\n",
        "Vy_N = 0\n",
        "Vz_N = 0\n",
        "phi_N = 90*np.pi/180\n",
        "psi_N = 0\n",
        "\n",
        "# initial control input \n",
        "T_0 = 0\n",
        "phidot_0 = 0\n",
        "psidot_0 = 0\n",
        "\n",
        "# final control input\n",
        "T_N = 0\n",
        "phidot_N = 0\n",
        "psidot_N = 0\n",
        "\n",
        "# constraint coefficients\n",
        "r_min = 3474.8*1000\n",
        "h_max = 30*1000\n",
        "r_max = 3474.8*1000 + h_max   #h_max km above Mars surface\n",
        "phi_min = -180*np.pi/180   #rad\n",
        "phi_max = 180*np.pi/180    #rad\n",
        "psi_min = -180*np.pi/180   #rad\n",
        "psi_max = 180*np.pi/180    #rad\n",
        "phidot_min = -10*np.pi/180 #rad/sec\n",
        "phidot_max = 10*np.pi/180  #rad/sec\n",
        "psidot_min = -10*np.pi/180 #rad/sec\n",
        "psidot_max = 10*np.pi/180  #rad/sec\n",
        "T_min = 4671               #Newton\n",
        "T_max = 43148              #Newton\n",
        "\n",
        "initial_state = np.array([r_0,alpha_0,beta_0,Vx_0,Vy_0,Vz_0,m_0,phi_0,psi_0])\n",
        "final_state = np.array([r_N,alpha_N,beta_N,Vx_N,Vy_N,Vz_N,phi_N,psi_N])\n",
        "input_limit = np.array([[T_min,phidot_min,psidot_min],[T_max,phidot_max,psidot_max]])\n",
        "initial_input = np.array([T_0,phidot_0,psidot_0])\n",
        "final_input = np.array([T_N,phidot_N,psidot_N])\n",
        "\n",
        "# m = 8321.09        #kg\n",
        "g = 3.711          #m/s^2\n",
        "Isp = 302.39       #s (effective specific impulse of the lander, used in mdot equation)\n"
      ],
      "execution_count": 295,
      "outputs": []
    },
    {
      "cell_type": "code",
      "metadata": {
        "id": "BXW1skdzzfHP"
      },
      "source": [
        "# Initialize Mathematical Program and Add Variables\n",
        "\n",
        "prog = MathematicalProgram()\n",
        "x = np.zeros((N,n_x),dtype=\"object\")\n",
        "u = np.zeros((N,n_u),dtype=\"object\")\n",
        "dt = np.zeros((1,), dtype=\"object\")\n",
        "\n",
        "for i in range(N):\n",
        "    x[i] = prog.NewContinuousVariables(n_x,\"x_\" + str(i))\n",
        "    u[i] = prog.NewContinuousVariables(n_u,\"u_\" + str(i))\n",
        "dt = prog.NewContinuousVariables(1,\"dt\") \n",
        "\n",
        "t0 = 0.0"
      ],
      "execution_count": 374,
      "outputs": []
    },
    {
      "cell_type": "code",
      "metadata": {
        "colab": {
          "base_uri": "https://localhost:8080/"
        },
        "id": "w2t-LTzlzgw3",
        "outputId": "bbc71b2c-fcfe-4118-a036-9a781b956d1f"
      },
      "source": [
        "# cost\n",
        "TT = 0\n",
        "for i in range(N-1):\n",
        "    TT += (u[i,0]**2 + u[i+1,0]**2)\n",
        "prog.AddQuadraticCost(TT)"
      ],
      "execution_count": 375,
      "outputs": [
        {
          "output_type": "execute_result",
          "data": {
            "text/plain": [
              "<pydrake.solvers.mathematicalprogram.Binding_QuadraticCost at 0x7ff3d65096b0>"
            ]
          },
          "metadata": {
            "tags": []
          },
          "execution_count": 375
        }
      ]
    },
    {
      "cell_type": "code",
      "metadata": {
        "id": "K46gb7sNzhcG"
      },
      "source": [
        "# Add dynamic constraint\n",
        "AddCollocationConstraints(prog, N, x, u, dt)\n",
        "\n",
        "# Add kinematic initial and final(landing) constraint\n",
        "AddInitialConstraints(prog, N, x, u, initial_state, initial_input)\n",
        "AddLandingConstraints(prog, N, x, u, final_state, final_input)"
      ],
      "execution_count": 376,
      "outputs": []
    },
    {
      "cell_type": "code",
      "metadata": {
        "colab": {
          "base_uri": "https://localhost:8080/"
        },
        "id": "PIfI9VFFzmHz",
        "outputId": "aab30f44-6f97-4af2-e6e8-d77fd9e869c4"
      },
      "source": [
        "# Add input/state limitation as bounding box constraints: NEED CHECK\n",
        "\n",
        "# height limit: 0 <= h <= hmax\n",
        "prog.AddBoundingBoxConstraint(r_min, r_max, x[:,0])\n",
        "# mass limits\n",
        "prog.AddBoundingBoxConstraint(0, m_0, x[:,6])\n",
        "for i in range(N-1):\n",
        "  prog.AddLinearConstraint(x[i+1, 6] <= x[i, 6])\n",
        "\n",
        "# angular position input limit\n",
        "prog.AddBoundingBoxConstraint(phi_min, phi_max, x[:,7]) \n",
        "prog.AddBoundingBoxConstraint(psi_min, psi_max, x[:,8])\n",
        "# prog.AddBoundingBoxConstraint(0, np.inf, u[:,0])# change constraint\n",
        "\n",
        "# thrust input limit\n",
        "# f1 = (u[:,0] - T_min)*(0.65*T_max - u[:,0])\n",
        "# f2 = (u[:,0] - T_min)*(T_max - u[:,0])\n",
        "# F = f1 + f2 + np.sqrt(f1**2 + f2**2)\n",
        "# for i in range(N):\n",
        "    # prog.AddConstraint(F[i] >= 0)\n",
        "\n",
        "\n",
        "# omega angular velocity state limits\n",
        "prog.AddBoundingBoxConstraint(phidot_min, phidot_max, u[:,1])\n",
        "prog.AddBoundingBoxConstraint(psidot_min, psidot_max, u[:,2])"
      ],
      "execution_count": 382,
      "outputs": [
        {
          "output_type": "execute_result",
          "data": {
            "text/plain": [
              "<pydrake.solvers.mathematicalprogram.Binding_BoundingBoxConstraint at 0x7ff3d6d09fb0>"
            ]
          },
          "metadata": {
            "tags": []
          },
          "execution_count": 382
        }
      ]
    },
    {
      "cell_type": "code",
      "metadata": {
        "id": "9p5SMFv5zoJi"
      },
      "source": [
        "# Set up solver initial guess\n",
        "\n",
        "# state initial guess\n",
        "xinit = np.zeros((N,n_x))\n",
        "\n",
        "# altitude initial guess\n",
        "a1 = np.linspace(r_0,r_0+6,N-N//2)\n",
        "a2 = np.linspace(r_0+5,r_0,N//2)\n",
        "xinit[:,0] = np.concatenate((a1,a2),axis=0)\n",
        "\n",
        "# longitude initial guess\n",
        "a1 = np.linspace(alpha_0,-23.47*np.pi/180,N-N//2)\n",
        "a2 = np.linspace(-23.46*np.pi/180,alpha_N,N//2)\n",
        "xinit[:,1] = np.concatenate((a1,a2),axis=0)\n",
        "\n",
        "# latitude initial guess\n",
        "xinit[:,2] = np.linspace(beta_0,beta_N,N)\n",
        "\n",
        "# velocity Vx\n",
        "a1 = np.linspace(Vx_0,100,N//5)\n",
        "a2 = np.linspace(100,-100,N-2*N//5)\n",
        "a3 = np.linspace(-100,Vx_N,N//5)\n",
        "xinit[:,3] = np.concatenate((a1,a2,a3),axis=0)\n",
        "\n",
        "# velocity Vy no need to do anything, all zeros is a good guess\n",
        "\n",
        "# velocity Vz\n",
        "a1 = np.linspace(Vz_0,150,N-N//2)\n",
        "a2 = np.linspace(140,Vz_N,N//2)\n",
        "xinit[:,5] = np.concatenate((a1,a2),axis=0)\n",
        "# mass\n",
        "\n",
        "xinit[:,6] = np.linspace(m_0, m_0-1000, N)#np.full(N,m_0)\n",
        "\n",
        "# pitch phi Need Halp\n",
        "xinit[:,7] = np.full(N,phi_0)\n",
        "\n",
        "# yaw psi\n",
        "xinit[:,8] = np.full(N,psi_0)\n",
        "\n",
        "# input initial guess\n",
        "uinit = np.zeros((N,n_u))\n",
        "for i in range(n_u):\n",
        "#   if i == 0:\n",
        "    # uinit[:3,i] = input_limit[1, i]/2*np.ones(3)\n",
        "    # uinit[3:,i] = np.zeros(N-3)\n",
        "  uinit[:,i] = np.random.uniform(input_limit[0,i],input_limit[1,i],N)\n",
        "# uinit = np.array([[ 1.98997229e+04, -6.06087577e-02, -7.22749816e-02],\n",
        "#         [ 2.48010689e+04,  1.74455728e-01, -1.14924916e-01],\n",
        "#         [ 3.36215365e+04, -1.18695095e-01,  1.00738233e-01],\n",
        "#         [ 3.27925885e+04,  1.07557932e-01,  1.02771410e-01],\n",
        "#         [ 4.17690735e+04,  2.40147332e-02,  1.54639394e-02],\n",
        "#         [ 2.65767083e+04,  5.39193115e-02,  1.57178788e-01],\n",
        "#         [ 2.42270697e+04,  7.34303229e-02,  1.46621208e-01],\n",
        "#         [ 4.10908563e+04,  1.39251648e-01, -1.44668279e-02],\n",
        "#         [ 1.27714770e+04,  3.80658926e-02, -4.69972944e-02],\n",
        "#         [ 8.09003919e+03, -3.77843412e-02,  3.54593721e-02],\n",
        "#         [ 3.52387737e+04,  2.88267223e-02, -8.68796320e-02],\n",
        "#         [ 3.77993812e+04,  8.74032690e-02,  1.17501434e-01],\n",
        "#         [ 4.25415831e+04,  1.36569591e-01,  1.71760966e-01],\n",
        "#         [ 3.46703688e+04, -1.66610615e-01,  1.27855656e-01],\n",
        "#         [ 3.56988869e+04, -7.22707055e-02, -5.78255588e-02]])\n",
        "# uinit[:,0] = ui[:,0]\n",
        "# uinit[:,1] = ui[:,1]\n",
        "# uinit[:,2] = ui[:,2]\n",
        "tinit = 1\n",
        "prog.SetInitialGuess(u,uinit)\n",
        "prog.SetInitialGuess(x,xinit)\n",
        "prog.SetInitialGuess(dt, [tinit])"
      ],
      "execution_count": 387,
      "outputs": []
    },
    {
      "cell_type": "code",
      "metadata": {
        "id": "Da9pksSIzo3z"
      },
      "source": [
        "# set up solver\n",
        "solver = SnoptSolver()\n",
        "prog.SetSolverOption(SolverType.kSnopt, \"Iterations limit\", 1000000)\n",
        "result = solver.Solve(prog)\n",
        "print(result.get_solution_result())\n",
        "# get solution of states and inputs from solver result\n",
        "x_sol = result.GetSolution(x)\n",
        "u_sol = result.GetSolution(u)\n",
        "t_sol = result.GetSolution(dt)\n",
        "x_sol[:,0] -= r_min\n",
        "x_sol[:,0] /= 1000\n",
        "x_sol[:,1] *= 180/np.pi\n",
        "x_sol[:,2] *= 180/np.pi\n",
        "x_sol[:,7] *= 180/np.pi\n",
        "x_sol[:,8] *= 180/np.pi\n",
        "u_sol[:,1] *= 180/np.pi\n",
        "u_sol[:,2] *= 180/np.pi\n",
        "\n",
        "timesteps = np.linspace(t0, t_sol*N, N)\n",
        "xdot_sol = np.zeros(x_sol.shape)\n",
        "for i in range(N):\n",
        "    xdot_sol[i] = EvaluateDynamics(x_sol[i], u_sol[i])\n",
        "\n",
        "# create trajectory by interpolating between collocation points using piecewise polynomial\n",
        "x_traj = PiecewisePolynomial.CubicHermite(timesteps, x_sol.T, xdot_sol.T)\n",
        "u_traj = PiecewisePolynomial.FirstOrderHold(timesteps, u_sol.T)"
      ],
      "execution_count": null,
      "outputs": []
    },
    {
      "cell_type": "code",
      "metadata": {
        "colab": {
          "base_uri": "https://localhost:8080/"
        },
        "id": "-fA_XU4GI7a-",
        "outputId": "e4726af3-f918-42a3-b240-b13a93b03183"
      },
      "source": [
        "print(\"Total mass lost:\", xinit[N-1, 6] - x_sol[N-1, 6], \"kg\")\n",
        "print(\"Optimal dt: \", t_sol)\n",
        "# plt.plot(f1)\n",
        "# plt.plot(f2)"
      ],
      "execution_count": 370,
      "outputs": [
        {
          "output_type": "stream",
          "text": [
            "Total mass lost: 1000.0 kg\n",
            "Optimal dt:  [9.06207008]\n"
          ],
          "name": "stdout"
        }
      ]
    },
    {
      "cell_type": "code",
      "metadata": {
        "colab": {
          "base_uri": "https://localhost:8080/",
          "height": 307
        },
        "id": "3nXRt8aH1yzl",
        "outputId": "adb15aa6-5287-4ce2-f810-f2e63b9555b3"
      },
      "source": [
        "# plt.plot(np.abs(x_traj(dt, 1) - EvaluateDynamics(x_sol, u_sol)))\n",
        "def eval_dynamics(x_in, u_in,time):\n",
        "    g_m = 3.71 # Mars\n",
        "    I_sp = 302.39\n",
        "    xdot = []\n",
        "    for i in range(1,int(N*time)):\n",
        "        x = x_in.value(i)\n",
        "        u = u_in.value(i)\n",
        "\n",
        "        r = x[0].item()\n",
        "        alpha = x[1].item()\n",
        "        beta = x[2].item()\n",
        "        Vx = x[3].item()\n",
        "        Vy = x[4].item()\n",
        "        Vz = x[5].item()\n",
        "        m = x[6].item()\n",
        "        phi = x[7].item()\n",
        "        psi = x[8].item()\n",
        "\n",
        "        rdot = Vx\n",
        "        alphadot = Vy/(r*np.cos(beta))\n",
        "        betadot = Vz/r\n",
        "\n",
        "        T = u[0].item()\n",
        "        omega_phi = u[1].item()\n",
        "        omega_psi = u[2].item()\n",
        "\n",
        "        mdot = -T/(I_sp*g_m)\n",
        "\n",
        "        Vxdot = T*np.sin(phi)/m - g_m + (Vy**2 + Vz**2)/r\n",
        "        Vydot = T*np.cos(phi)*np.cos(psi)/m - (Vx*Vy)/r + (Vy*Vz*np.tan(beta))/r\n",
        "        Vzdot = T*np.cos(phi)*np.sin(psi)/m - (Vx*Vz)/r - (Vy**2*np.tan(beta))/r\n",
        "\n",
        "        temp  = [rdot, alphadot, betadot,\n",
        "                            Vxdot, Vydot, Vzdot, \n",
        "                            mdot, omega_phi, omega_psi]\n",
        "        xdot.append(temp)\n",
        "    return np.array(xdot)\n",
        "vals = []\n",
        "for i in range(1, int(N*t_sol[0])):\n",
        "    vals.append(x_traj.derivative(1).value(i)[0].item())\n",
        "\n",
        "densetimesteps = np.linspace(0,N*t_sol[0],len(vals))\n",
        "x_traj_dot = eval_dynamics(x_traj,u_traj,t_sol[0])\n",
        "\n",
        "# plt.plot(densetimesteps,vals)\n",
        "# plt.plot(densetimesteps,x_traj_dot[:,0])\n",
        "\n",
        "eps = []\n",
        "for i in range(len(vals)):\n",
        "    eps.append(vals[i] - x_traj_dot[:,0][i])\n",
        "\n",
        "plt.plot(densetimesteps, eps)\n",
        "plt.plot(densetimesteps, np.zeros_like(densetimesteps))\n",
        "plt.ylabel(r\"$\\epsilon(t)$\")\n",
        "plt.xlabel(\"Simulation time (s)\")\n",
        "# plt.xlim(0, 200)\n",
        "# plt.ylim(-1000,1000)"
      ],
      "execution_count": 371,
      "outputs": [
        {
          "output_type": "execute_result",
          "data": {
            "text/plain": [
              "Text(0.5, 0, 'Simulation time (s)')"
            ]
          },
          "metadata": {
            "tags": []
          },
          "execution_count": 371
        },
        {
          "output_type": "display_data",
          "data": {
            "image/png": "[encoded data removed]",
            "text/plain": [
              "<Figure size 432x288 with 1 Axes>"
            ]
          },
          "metadata": {
            "tags": [],
            "needs_background": "light"
          }
        }
      ]
    },
    {
      "cell_type": "code",
      "metadata": {
        "id": "JubsST1spBlm"
      },
      "source": [
        "def plot_util(timesteps, x_sol, u_sol):\n",
        "  fig, axes = plt.subplots(nrows=4, ncols=3, figsize=(15,15))\n",
        "  fig.subplots_adjust(hspace=10)\n",
        "  fig.suptitle('Nominal State and Input Trajectories')\n",
        "  labels = ['Altitude $r$ (km)', r'Latitude $\\alpha$ (deg)', r'Longitude $\\beta$ (deg)',\n",
        "            '$V_x$ (m/s)', '$V_y$ (m/s)', '$V_z$ (m/s)',\n",
        "            'Mass (kg)', r'Pitch $\\phi$ (deg)', r'Yaw $\\psi$ (deg)',\n",
        "            'Thrust (N)', r'Pitch Rate $\\omega_{\\phi}$ (deg/s)', r'Yaw Rate $\\omega_{\\psi}$ (deg/s)']\n",
        "\n",
        "  for idx, ax in enumerate(axes.flatten()):\n",
        "    if idx < n_x:\n",
        "      ax.plot(timesteps, x_sol[:,idx])\n",
        "    else:\n",
        "      ax.plot(timesteps, u_sol[:,idx % n_x])\n",
        "    ax.set(ylabel = labels[idx])\n",
        "    ax.set(xlabel = \"Simulation Time (s)\")\n",
        "\n",
        "  plt.tight_layout()\n",
        "\n",
        "def plot_util_spline(N, t_sol, x_s, u_s):\n",
        "  fig, axes = plt.subplots(nrows=4, ncols=3, figsize=(15,15))\n",
        "  fig.subplots_adjust(hspace=10)\n",
        "  fig.suptitle('Nominal State and Input Trajectories')\n",
        "  labels = ['Altitude $r$ (km)', r'Latitude $\\alpha$ (deg)', r'Longitude $\\beta$ (deg)',\n",
        "            '$V_x$ (m/s)', '$V_y$ (m/s)', '$V_z$ (m/s)',\n",
        "            'Mass (kg)', r'Pitch $\\phi$ (deg)', r'Yaw $\\psi$ (deg)',\n",
        "            'Thrust (N)', r'Pitch Rate $\\omega_{\\phi}$ (deg/s)', r'Yaw Rate $\\omega_{\\psi}$ (deg/s)']\n",
        "  \n",
        "  for idx, ax in enumerate(axes.flatten()):\n",
        "    if idx < n_x:\n",
        "      vals = []\n",
        "      for i in range(int(N*t_sol[0])):\n",
        "        vals.append(x_s.value(i)[idx])\n",
        "        ax.plot(vals)\n",
        "    else:\n",
        "      vals = []\n",
        "      for i in range(int(N*t_sol[0])):\n",
        "        vals.append(u_s.value(i)[idx % n_x])\n",
        "        ax.plot(vals)\n",
        "    ax.set(ylabel = labels[idx])\n",
        "    ax.set(xlabel = \"Simulation Time (s)\")\n",
        "\n",
        "  plt.tight_layout()"
      ],
      "execution_count": 372,
      "outputs": []
    },
    {
      "cell_type": "code",
      "metadata": {
        "id": "h41maVEPdcf9"
      },
      "source": [
        "plot_util(timesteps, x_sol, u_sol)"
      ],
      "execution_count": null,
      "outputs": []
    },
    {
      "cell_type": "code",
      "metadata": {
        "id": "s6GlwvuJrxit"
      },
      "source": [
        "plt.plot(timesteps, x_sol[:,0])\n",
        "x_sol[:,0]"
      ],
      "execution_count": null,
      "outputs": []
    },
    {
      "cell_type": "code",
      "metadata": {
        "id": "jyT163Mpsloj"
      },
      "source": [
        "plot_util_spline(N, t_sol, x_traj, u_traj)"
      ],
      "execution_count": null,
      "outputs": []
    },
    {
      "cell_type": "code",
      "metadata": {
        "id": "0JCc4iPwPIRT"
      },
      "source": [
        "from matplotlib.patches import FancyArrowPatch\n",
        "from mpl_toolkits.mplot3d import proj3d\n",
        "\n",
        "def plot_3d_trajectory(r_sol, alpha_sol, beta_sol, T_sol=None):\n",
        "  import matplotlib as mpl\n",
        "  from mpl_toolkits.mplot3d import Axes3D\n",
        "  import numpy as np\n",
        "  import matplotlib.pyplot as plt\n",
        "  mpl.rcParams['legend.fontsize'] = 10\n",
        "  fig = plt.figure()\n",
        "  ax = fig.gca(projection='3d')\n",
        "  x = r_sol*np.sin(beta_sol)*np.cos(alpha_sol)\n",
        "  y = r_sol*np.sin(beta_sol)*np.sin(alpha_sol)\n",
        "  z = r_sol*np.cos(beta_sol)\n",
        "  ax.plot(x, y, z, label='Rocket Trajectory')\n",
        "  ax.set_xlabel('x position')\n",
        "  ax.set_ylabel('y position')\n",
        "  ax.set_zlabel('z [km]')  \n",
        "  ax.set_zlim(0,4)\n",
        "  ax.legend()\n",
        "  plt.tight_layout()\n",
        "  plt.show()\n",
        "\n",
        "\n",
        "\n"
      ],
      "execution_count": 1581,
      "outputs": []
    },
    {
      "cell_type": "code",
      "metadata": {
        "id": "S_J5jfnTQp7t"
      },
      "source": [
        "plot_3d_trajectory(x_sol[:,0],x_sol[:,1],x_sol[:,2])"
      ],
      "execution_count": null,
      "outputs": []
    },
    {
      "cell_type": "code",
      "metadata": {
        "id": "IhIGf8YGzqm5"
      },
      "source": [
        "# TODO: create LQR to follow the trajectory\n",
        "import spacecraft\n",
        "importlib.reload(spacecraft)\n",
        "from spacecraft import Spacecraft\n",
        "\n",
        "import simulation\n",
        "importlib.reload(simulation)\n",
        "from simulation import simulate_spacecraft"
      ],
      "execution_count": 1633,
      "outputs": []
    },
    {
      "cell_type": "code",
      "metadata": {
        "id": "JL_zVExPzrWK"
      },
      "source": [
        "# TODO: simulate and animate path, create disturbance in simulation\n",
        "temp = np.zeros(270)\n",
        "for i in range(270):\n",
        "    temp[i] = u_traj.value(i)[0].item()\n",
        "plt.plot(np.linspace(0,270,270),temp)"
      ],
      "execution_count": null,
      "outputs": []
    },
    {
      "cell_type": "code",
      "metadata": {
        "id": "IDH9AklAr1lF"
      },
      "source": [
        "R = 10*np.eye(3)\n",
        "Q = 10*np.eye(9)\n",
        "Qf = Q\n",
        "spacecraft = Spacecraft(Q,R,Qf,t_sol.item()*N,x_traj,u_traj)\n",
        "xsim,usim,tsim = simulate_spacecraft(x_traj.value(0).flatten(),u_traj.value(0).flatten(),t_sol.item()*N,spacecraft)"
      ],
      "execution_count": 1657,
      "outputs": []
    },
    {
      "cell_type": "code",
      "metadata": {
        "id": "kVGidxyC53rv"
      },
      "source": [
        "plot_util(tsim,xsim,usim)"
      ],
      "execution_count": null,
      "outputs": []
    },
    {
      "cell_type": "code",
      "metadata": {
        "id": "KSwarVI96Isr"
      },
      "source": [
        "plt.plot(tsim, xsim[:,1], label='TVLQR')\n",
        "plt.plot(timesteps, x_sol[:,1])\n",
        "plt.xlim(0, 200)\n",
        "plt.xlim(0,30)\n",
        "plt.legend()\n",
        "\n",
        "# x = [r, alpha, beta, vx, vy, vz, m, phi, psi]\n",
        "# u = [T, w_phi, w_psi]"
      ],
      "execution_count": null,
      "outputs": []
    },
    {
      "cell_type": "code",
      "metadata": {
        "id": "qUTOL6rb9pkk"
      },
      "source": [
        "plt.plot(xinit[:,0])"
      ],
      "execution_count": null,
      "outputs": []
    },
    {
      "cell_type": "code",
      "metadata": {
        "id": "MrxwGhRa9xiq"
      },
      "source": [
        ""
      ],
      "execution_count": null,
      "outputs": []
    }
  ]
}